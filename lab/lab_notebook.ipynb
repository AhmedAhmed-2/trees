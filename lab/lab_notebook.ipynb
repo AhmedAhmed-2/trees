{
 "cells": [
  {
   "cell_type": "markdown",
   "metadata": {},
   "source": [
    "# Lab: Trees and Model Stability\n",
    "\n",
    "Trees are notorious for being **unstable**: Small changes in the data can lead to noticeable or large changes in the tree. We're going to explore this phenomenon, and a common rebuttal.\n",
    "\n",
    "In the folder for this lab, there are three datasets that we used in class: Divorce, heart failure, and the AirBnB price dataset.\n",
    "\n",
    "1. Pick one of the datasets and appropriately clean it.\n",
    "2. Perform a train-test split for a specific seed (save the seed for reproducibility). Fit a classification/regression tree and a linear model on the training data and evaluate their performance on the test data. Set aside the predictions these models make.\n",
    "3. Repeat step 2 for three to five different seeds (save the seeds for reproducibility). How different are the trees that you get? Your linear model coefficients? \n",
    "\n",
    "Typically, you would see the trees changing. Often, the changes appear substantial. Are they?\n",
    "\n",
    "4. "
   ]
  }
 ],
 "metadata": {
  "language_info": {
   "name": "python"
  }
 },
 "nbformat": 4,
 "nbformat_minor": 2
}
